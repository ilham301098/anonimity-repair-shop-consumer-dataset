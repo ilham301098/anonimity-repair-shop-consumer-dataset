{
  "nbformat": 4,
  "nbformat_minor": 0,
  "metadata": {
    "kernelspec": {
      "name": "python3",
      "display_name": "Python 3.7.4 64-bit",
      "metadata": {
        "interpreter": {
          "hash": "7e7df21fdf00a26e36d4e6310a308abb9513233b4a3ec64213ee6595ee7ec7bb"
        }
      }
    },
    "language_info": {
      "codemirror_mode": {
        "name": "ipython",
        "version": 3
      },
      "file_extension": ".py",
      "mimetype": "text/x-python",
      "name": "python",
      "nbconvert_exporter": "python",
      "pygments_lexer": "ipython3",
      "version": "3.7.4-final"
    },
    "colab": {
      "name": "K-anonymity Data Konsumen Bengkel.ipynb",
      "provenance": [],
      "collapsed_sections": []
    }
  },
  "cells": [
    {
      "cell_type": "code",
      "metadata": {
        "id": "lj_dFYZX6g0v"
      },
      "source": [
        "# we use Pandas to work with the data as it makes working with categorical data very easy\n",
        "import pandas as pd"
      ],
      "execution_count": 33,
      "outputs": []
    },
    {
      "cell_type": "code",
      "metadata": {
        "id": "Z3NjcRsh6g05"
      },
      "source": [
        "# this is a list of the column names in our dataset (as the file doesn't contain any headers)\n",
        "names = (\n",
        "    'no_nota',\n",
        "    'nomor_polisi',\n",
        "    'nomor_rangka',\n",
        "    'nomor_mesin',\n",
        "    'tipe_motor',\n",
        "    'tahun_produksi',\n",
        "    'nama',\n",
        "    'alamat',\n",
        "    'phone',\n",
        "    'agama',\n",
        "    'pendidikan',\n",
        "    'pekerjaan',\n",
        ")\n",
        "\n",
        "# some fields are categorical and will require special treatment\n",
        "categorical = set((\n",
        "    'no_nota',\n",
        "    'nama',\n",
        "    'alamat',\n",
        "    'phone',\n",
        "    'nomor_polisi',\n",
        "    'nomor_rangka',\n",
        "    'nomor_mesin',\n",
        "    'tipe_motor',\n",
        "    'nomor_polisi'\n",
        "))\n",
        "\n",
        "df = pd.read_csv(\"dataset.csv\", sep=\";\", header=None, names=names, index_col=False, engine='python');# We load the data using Pandas"
      ],
      "execution_count": 40,
      "outputs": []
    },
    {
      "cell_type": "code",
      "metadata": {
        "colab": {
          "base_uri": "https://localhost:8080/",
          "height": 496
        },
        "id": "zYJVe7276g08",
        "outputId": "8893f494-fe14-4303-dd3a-79316ab46a52"
      },
      "source": [
        "df.head()"
      ],
      "execution_count": 41,
      "outputs": [
        {
          "output_type": "execute_result",
          "data": {
            "text/html": [
              "\n",
              "  <div id=\"df-82e9d485-3261-4305-8c47-88f6a3875857\">\n",
              "    <div class=\"colab-df-container\">\n",
              "      <div>\n",
              "<style scoped>\n",
              "    .dataframe tbody tr th:only-of-type {\n",
              "        vertical-align: middle;\n",
              "    }\n",
              "\n",
              "    .dataframe tbody tr th {\n",
              "        vertical-align: top;\n",
              "    }\n",
              "\n",
              "    .dataframe thead th {\n",
              "        text-align: right;\n",
              "    }\n",
              "</style>\n",
              "<table border=\"1\" class=\"dataframe\">\n",
              "  <thead>\n",
              "    <tr style=\"text-align: right;\">\n",
              "      <th></th>\n",
              "      <th>no_nota</th>\n",
              "      <th>nomor_polisi</th>\n",
              "      <th>nomor_rangka</th>\n",
              "      <th>nomor_mesin</th>\n",
              "      <th>tipe_motor</th>\n",
              "      <th>tahun_produksi</th>\n",
              "      <th>nama</th>\n",
              "      <th>alamat</th>\n",
              "      <th>phone</th>\n",
              "      <th>agama</th>\n",
              "      <th>pendidikan</th>\n",
              "      <th>pekerjaan</th>\n",
              "    </tr>\n",
              "  </thead>\n",
              "  <tbody>\n",
              "    <tr>\n",
              "      <th>0</th>\n",
              "      <td>08332/KWT/20/01/00032</td>\n",
              "      <td>W4778ZX</td>\n",
              "      <td>MH1JM211XGK034452</td>\n",
              "      <td>JM21E1031855</td>\n",
              "      <td>BEAT</td>\n",
              "      <td>2018</td>\n",
              "      <td>KUSWORINI TITIK RAHAYU DRA</td>\n",
              "      <td>WONOKASIAN RT 004 RW 002 SIDOARJO</td>\n",
              "      <td>8.523060e+10</td>\n",
              "      <td>Islam</td>\n",
              "      <td>SMA/Sederajat</td>\n",
              "      <td>Wiraswasta</td>\n",
              "    </tr>\n",
              "    <tr>\n",
              "      <th>1</th>\n",
              "      <td>08332/KWT/20/02/00895</td>\n",
              "      <td>W4778ZX</td>\n",
              "      <td>MH1JM211XGK034452</td>\n",
              "      <td>JM21E1031855</td>\n",
              "      <td>BEAT</td>\n",
              "      <td>2018</td>\n",
              "      <td>KUSWORINI TITIK RAHAYU DRA</td>\n",
              "      <td>WONOKASIAN RT 004 RW 002 SIDOARJO</td>\n",
              "      <td>8.523060e+10</td>\n",
              "      <td>Islam</td>\n",
              "      <td>D4/S1</td>\n",
              "      <td>Wiraswasta</td>\n",
              "    </tr>\n",
              "    <tr>\n",
              "      <th>2</th>\n",
              "      <td>08332/KWT/20/01/00709</td>\n",
              "      <td>L3632MA</td>\n",
              "      <td>MH1KF112XJK447741</td>\n",
              "      <td>KF11E2438403</td>\n",
              "      <td>NEW VARIO 150</td>\n",
              "      <td>2018</td>\n",
              "      <td>JAMAL ILHAM IR</td>\n",
              "      <td>KEBONSARI V-B/6.B</td>\n",
              "      <td>8.123150e+08</td>\n",
              "      <td>Islam</td>\n",
              "      <td>SMA/Sederajat</td>\n",
              "      <td>Wiraswasta</td>\n",
              "    </tr>\n",
              "    <tr>\n",
              "      <th>3</th>\n",
              "      <td>08332/KWT/20/02/01105</td>\n",
              "      <td>W3446QF</td>\n",
              "      <td>MH1KC4113EK219894</td>\n",
              "      <td>KC41E1217620</td>\n",
              "      <td>ALL NEW CB150R STREETFIRE</td>\n",
              "      <td>2018</td>\n",
              "      <td>TEGUH</td>\n",
              "      <td>LARANGAN SUDIRMAN IX/25 CANDI SDA</td>\n",
              "      <td>8.225733e+10</td>\n",
              "      <td>Islam</td>\n",
              "      <td>S2</td>\n",
              "      <td>Wiraswasta</td>\n",
              "    </tr>\n",
              "    <tr>\n",
              "      <th>4</th>\n",
              "      <td>08332/KWT/20/02/01082</td>\n",
              "      <td>L5908ML</td>\n",
              "      <td>MH1KF411XKK699788</td>\n",
              "      <td>KF411702462</td>\n",
              "      <td>VARIO ESP CBS ISS ADV MMC</td>\n",
              "      <td>2019</td>\n",
              "      <td>MOHAMMAD RIZQI SE</td>\n",
              "      <td>MENANGGAL I REGENCY NO.19</td>\n",
              "      <td>8.564601e+10</td>\n",
              "      <td>Islam</td>\n",
              "      <td>SMA/Sederajat</td>\n",
              "      <td>Wiraswasta</td>\n",
              "    </tr>\n",
              "  </tbody>\n",
              "</table>\n",
              "</div>\n",
              "      <button class=\"colab-df-convert\" onclick=\"convertToInteractive('df-82e9d485-3261-4305-8c47-88f6a3875857')\"\n",
              "              title=\"Convert this dataframe to an interactive table.\"\n",
              "              style=\"display:none;\">\n",
              "        \n",
              "  <svg xmlns=\"http://www.w3.org/2000/svg\" height=\"24px\"viewBox=\"0 0 24 24\"\n",
              "       width=\"24px\">\n",
              "    <path d=\"M0 0h24v24H0V0z\" fill=\"none\"/>\n",
              "    <path d=\"M18.56 5.44l.94 2.06.94-2.06 2.06-.94-2.06-.94-.94-2.06-.94 2.06-2.06.94zm-11 1L8.5 8.5l.94-2.06 2.06-.94-2.06-.94L8.5 2.5l-.94 2.06-2.06.94zm10 10l.94 2.06.94-2.06 2.06-.94-2.06-.94-.94-2.06-.94 2.06-2.06.94z\"/><path d=\"M17.41 7.96l-1.37-1.37c-.4-.4-.92-.59-1.43-.59-.52 0-1.04.2-1.43.59L10.3 9.45l-7.72 7.72c-.78.78-.78 2.05 0 2.83L4 21.41c.39.39.9.59 1.41.59.51 0 1.02-.2 1.41-.59l7.78-7.78 2.81-2.81c.8-.78.8-2.07 0-2.86zM5.41 20L4 18.59l7.72-7.72 1.47 1.35L5.41 20z\"/>\n",
              "  </svg>\n",
              "      </button>\n",
              "      \n",
              "  <style>\n",
              "    .colab-df-container {\n",
              "      display:flex;\n",
              "      flex-wrap:wrap;\n",
              "      gap: 12px;\n",
              "    }\n",
              "\n",
              "    .colab-df-convert {\n",
              "      background-color: #E8F0FE;\n",
              "      border: none;\n",
              "      border-radius: 50%;\n",
              "      cursor: pointer;\n",
              "      display: none;\n",
              "      fill: #1967D2;\n",
              "      height: 32px;\n",
              "      padding: 0 0 0 0;\n",
              "      width: 32px;\n",
              "    }\n",
              "\n",
              "    .colab-df-convert:hover {\n",
              "      background-color: #E2EBFA;\n",
              "      box-shadow: 0px 1px 2px rgba(60, 64, 67, 0.3), 0px 1px 3px 1px rgba(60, 64, 67, 0.15);\n",
              "      fill: #174EA6;\n",
              "    }\n",
              "\n",
              "    [theme=dark] .colab-df-convert {\n",
              "      background-color: #3B4455;\n",
              "      fill: #D2E3FC;\n",
              "    }\n",
              "\n",
              "    [theme=dark] .colab-df-convert:hover {\n",
              "      background-color: #434B5C;\n",
              "      box-shadow: 0px 1px 3px 1px rgba(0, 0, 0, 0.15);\n",
              "      filter: drop-shadow(0px 1px 2px rgba(0, 0, 0, 0.3));\n",
              "      fill: #FFFFFF;\n",
              "    }\n",
              "  </style>\n",
              "\n",
              "      <script>\n",
              "        const buttonEl =\n",
              "          document.querySelector('#df-82e9d485-3261-4305-8c47-88f6a3875857 button.colab-df-convert');\n",
              "        buttonEl.style.display =\n",
              "          google.colab.kernel.accessAllowed ? 'block' : 'none';\n",
              "\n",
              "        async function convertToInteractive(key) {\n",
              "          const element = document.querySelector('#df-82e9d485-3261-4305-8c47-88f6a3875857');\n",
              "          const dataTable =\n",
              "            await google.colab.kernel.invokeFunction('convertToInteractive',\n",
              "                                                     [key], {});\n",
              "          if (!dataTable) return;\n",
              "\n",
              "          const docLinkHtml = 'Like what you see? Visit the ' +\n",
              "            '<a target=\"_blank\" href=https://colab.research.google.com/notebooks/data_table.ipynb>data table notebook</a>'\n",
              "            + ' to learn more about interactive tables.';\n",
              "          element.innerHTML = '';\n",
              "          dataTable['output_type'] = 'display_data';\n",
              "          await google.colab.output.renderOutput(dataTable, element);\n",
              "          const docLink = document.createElement('div');\n",
              "          docLink.innerHTML = docLinkHtml;\n",
              "          element.appendChild(docLink);\n",
              "        }\n",
              "      </script>\n",
              "    </div>\n",
              "  </div>\n",
              "  "
            ],
            "text/plain": [
              "                 no_nota nomor_polisi  ...     pendidikan   pekerjaan\n",
              "0  08332/KWT/20/01/00032      W4778ZX  ...  SMA/Sederajat  Wiraswasta\n",
              "1  08332/KWT/20/02/00895      W4778ZX  ...          D4/S1  Wiraswasta\n",
              "2  08332/KWT/20/01/00709      L3632MA  ...  SMA/Sederajat  Wiraswasta\n",
              "3  08332/KWT/20/02/01105      W3446QF  ...             S2  Wiraswasta\n",
              "4  08332/KWT/20/02/01082      L5908ML  ...  SMA/Sederajat  Wiraswasta\n",
              "\n",
              "[5 rows x 12 columns]"
            ]
          },
          "metadata": {},
          "execution_count": 41
        }
      ]
    },
    {
      "cell_type": "code",
      "metadata": {
        "colab": {
          "base_uri": "https://localhost:8080/",
          "height": 496
        },
        "id": "iUjr-7pt6g0_",
        "outputId": "fee50835-e5dd-4f49-e499-4e95c2ff2e05"
      },
      "source": [
        "# Mengubah kolom yang memiliki kategori ke bentuk numeric\n",
        "df[\"agama\"].replace({\"Islam\": 1, \"Kristen Protestan\": 2, \"Katolik\": 3, \"Hindu\": 4, \"Budha\": 5, \"Khonghucu\": 6}, inplace=True)\n",
        "df[\"pendidikan\"].replace({\"Tidak Sekolah\": 1, \"SD\": 2, \"SMP/Sederajat\": 3, \"SMA/Sederajat\": 4, \"D1\": 5, \"D2\": 6, \"D3\": 7, \"D4/S1\": 8, \"S2\": 9, \"S3\": 10}, inplace=True)\n",
        "df[\"pekerjaan\"].replace({\"Tidak Bekerja\": 1, \"PNS\": 2, \"Wiraswasta\": 3, \"Pengusaha\": 4, \"Pegawai Pemerintah\": 5, \"Pensiunan\": 6}, inplace=True)\n",
        "\n",
        "df.head()"
      ],
      "execution_count": 42,
      "outputs": [
        {
          "output_type": "execute_result",
          "data": {
            "text/html": [
              "\n",
              "  <div id=\"df-8ffe52c4-9201-4cbd-8a96-2cc8ae7d95d9\">\n",
              "    <div class=\"colab-df-container\">\n",
              "      <div>\n",
              "<style scoped>\n",
              "    .dataframe tbody tr th:only-of-type {\n",
              "        vertical-align: middle;\n",
              "    }\n",
              "\n",
              "    .dataframe tbody tr th {\n",
              "        vertical-align: top;\n",
              "    }\n",
              "\n",
              "    .dataframe thead th {\n",
              "        text-align: right;\n",
              "    }\n",
              "</style>\n",
              "<table border=\"1\" class=\"dataframe\">\n",
              "  <thead>\n",
              "    <tr style=\"text-align: right;\">\n",
              "      <th></th>\n",
              "      <th>no_nota</th>\n",
              "      <th>nomor_polisi</th>\n",
              "      <th>nomor_rangka</th>\n",
              "      <th>nomor_mesin</th>\n",
              "      <th>tipe_motor</th>\n",
              "      <th>tahun_produksi</th>\n",
              "      <th>nama</th>\n",
              "      <th>alamat</th>\n",
              "      <th>phone</th>\n",
              "      <th>agama</th>\n",
              "      <th>pendidikan</th>\n",
              "      <th>pekerjaan</th>\n",
              "    </tr>\n",
              "  </thead>\n",
              "  <tbody>\n",
              "    <tr>\n",
              "      <th>0</th>\n",
              "      <td>08332/KWT/20/01/00032</td>\n",
              "      <td>W4778ZX</td>\n",
              "      <td>MH1JM211XGK034452</td>\n",
              "      <td>JM21E1031855</td>\n",
              "      <td>BEAT</td>\n",
              "      <td>2018</td>\n",
              "      <td>KUSWORINI TITIK RAHAYU DRA</td>\n",
              "      <td>WONOKASIAN RT 004 RW 002 SIDOARJO</td>\n",
              "      <td>8.523060e+10</td>\n",
              "      <td>1</td>\n",
              "      <td>4</td>\n",
              "      <td>3</td>\n",
              "    </tr>\n",
              "    <tr>\n",
              "      <th>1</th>\n",
              "      <td>08332/KWT/20/02/00895</td>\n",
              "      <td>W4778ZX</td>\n",
              "      <td>MH1JM211XGK034452</td>\n",
              "      <td>JM21E1031855</td>\n",
              "      <td>BEAT</td>\n",
              "      <td>2018</td>\n",
              "      <td>KUSWORINI TITIK RAHAYU DRA</td>\n",
              "      <td>WONOKASIAN RT 004 RW 002 SIDOARJO</td>\n",
              "      <td>8.523060e+10</td>\n",
              "      <td>1</td>\n",
              "      <td>8</td>\n",
              "      <td>3</td>\n",
              "    </tr>\n",
              "    <tr>\n",
              "      <th>2</th>\n",
              "      <td>08332/KWT/20/01/00709</td>\n",
              "      <td>L3632MA</td>\n",
              "      <td>MH1KF112XJK447741</td>\n",
              "      <td>KF11E2438403</td>\n",
              "      <td>NEW VARIO 150</td>\n",
              "      <td>2018</td>\n",
              "      <td>JAMAL ILHAM IR</td>\n",
              "      <td>KEBONSARI V-B/6.B</td>\n",
              "      <td>8.123150e+08</td>\n",
              "      <td>1</td>\n",
              "      <td>4</td>\n",
              "      <td>3</td>\n",
              "    </tr>\n",
              "    <tr>\n",
              "      <th>3</th>\n",
              "      <td>08332/KWT/20/02/01105</td>\n",
              "      <td>W3446QF</td>\n",
              "      <td>MH1KC4113EK219894</td>\n",
              "      <td>KC41E1217620</td>\n",
              "      <td>ALL NEW CB150R STREETFIRE</td>\n",
              "      <td>2018</td>\n",
              "      <td>TEGUH</td>\n",
              "      <td>LARANGAN SUDIRMAN IX/25 CANDI SDA</td>\n",
              "      <td>8.225733e+10</td>\n",
              "      <td>1</td>\n",
              "      <td>9</td>\n",
              "      <td>3</td>\n",
              "    </tr>\n",
              "    <tr>\n",
              "      <th>4</th>\n",
              "      <td>08332/KWT/20/02/01082</td>\n",
              "      <td>L5908ML</td>\n",
              "      <td>MH1KF411XKK699788</td>\n",
              "      <td>KF411702462</td>\n",
              "      <td>VARIO ESP CBS ISS ADV MMC</td>\n",
              "      <td>2019</td>\n",
              "      <td>MOHAMMAD RIZQI SE</td>\n",
              "      <td>MENANGGAL I REGENCY NO.19</td>\n",
              "      <td>8.564601e+10</td>\n",
              "      <td>1</td>\n",
              "      <td>4</td>\n",
              "      <td>3</td>\n",
              "    </tr>\n",
              "  </tbody>\n",
              "</table>\n",
              "</div>\n",
              "      <button class=\"colab-df-convert\" onclick=\"convertToInteractive('df-8ffe52c4-9201-4cbd-8a96-2cc8ae7d95d9')\"\n",
              "              title=\"Convert this dataframe to an interactive table.\"\n",
              "              style=\"display:none;\">\n",
              "        \n",
              "  <svg xmlns=\"http://www.w3.org/2000/svg\" height=\"24px\"viewBox=\"0 0 24 24\"\n",
              "       width=\"24px\">\n",
              "    <path d=\"M0 0h24v24H0V0z\" fill=\"none\"/>\n",
              "    <path d=\"M18.56 5.44l.94 2.06.94-2.06 2.06-.94-2.06-.94-.94-2.06-.94 2.06-2.06.94zm-11 1L8.5 8.5l.94-2.06 2.06-.94-2.06-.94L8.5 2.5l-.94 2.06-2.06.94zm10 10l.94 2.06.94-2.06 2.06-.94-2.06-.94-.94-2.06-.94 2.06-2.06.94z\"/><path d=\"M17.41 7.96l-1.37-1.37c-.4-.4-.92-.59-1.43-.59-.52 0-1.04.2-1.43.59L10.3 9.45l-7.72 7.72c-.78.78-.78 2.05 0 2.83L4 21.41c.39.39.9.59 1.41.59.51 0 1.02-.2 1.41-.59l7.78-7.78 2.81-2.81c.8-.78.8-2.07 0-2.86zM5.41 20L4 18.59l7.72-7.72 1.47 1.35L5.41 20z\"/>\n",
              "  </svg>\n",
              "      </button>\n",
              "      \n",
              "  <style>\n",
              "    .colab-df-container {\n",
              "      display:flex;\n",
              "      flex-wrap:wrap;\n",
              "      gap: 12px;\n",
              "    }\n",
              "\n",
              "    .colab-df-convert {\n",
              "      background-color: #E8F0FE;\n",
              "      border: none;\n",
              "      border-radius: 50%;\n",
              "      cursor: pointer;\n",
              "      display: none;\n",
              "      fill: #1967D2;\n",
              "      height: 32px;\n",
              "      padding: 0 0 0 0;\n",
              "      width: 32px;\n",
              "    }\n",
              "\n",
              "    .colab-df-convert:hover {\n",
              "      background-color: #E2EBFA;\n",
              "      box-shadow: 0px 1px 2px rgba(60, 64, 67, 0.3), 0px 1px 3px 1px rgba(60, 64, 67, 0.15);\n",
              "      fill: #174EA6;\n",
              "    }\n",
              "\n",
              "    [theme=dark] .colab-df-convert {\n",
              "      background-color: #3B4455;\n",
              "      fill: #D2E3FC;\n",
              "    }\n",
              "\n",
              "    [theme=dark] .colab-df-convert:hover {\n",
              "      background-color: #434B5C;\n",
              "      box-shadow: 0px 1px 3px 1px rgba(0, 0, 0, 0.15);\n",
              "      filter: drop-shadow(0px 1px 2px rgba(0, 0, 0, 0.3));\n",
              "      fill: #FFFFFF;\n",
              "    }\n",
              "  </style>\n",
              "\n",
              "      <script>\n",
              "        const buttonEl =\n",
              "          document.querySelector('#df-8ffe52c4-9201-4cbd-8a96-2cc8ae7d95d9 button.colab-df-convert');\n",
              "        buttonEl.style.display =\n",
              "          google.colab.kernel.accessAllowed ? 'block' : 'none';\n",
              "\n",
              "        async function convertToInteractive(key) {\n",
              "          const element = document.querySelector('#df-8ffe52c4-9201-4cbd-8a96-2cc8ae7d95d9');\n",
              "          const dataTable =\n",
              "            await google.colab.kernel.invokeFunction('convertToInteractive',\n",
              "                                                     [key], {});\n",
              "          if (!dataTable) return;\n",
              "\n",
              "          const docLinkHtml = 'Like what you see? Visit the ' +\n",
              "            '<a target=\"_blank\" href=https://colab.research.google.com/notebooks/data_table.ipynb>data table notebook</a>'\n",
              "            + ' to learn more about interactive tables.';\n",
              "          element.innerHTML = '';\n",
              "          dataTable['output_type'] = 'display_data';\n",
              "          await google.colab.output.renderOutput(dataTable, element);\n",
              "          const docLink = document.createElement('div');\n",
              "          docLink.innerHTML = docLinkHtml;\n",
              "          element.appendChild(docLink);\n",
              "        }\n",
              "      </script>\n",
              "    </div>\n",
              "  </div>\n",
              "  "
            ],
            "text/plain": [
              "                 no_nota nomor_polisi  ... pendidikan pekerjaan\n",
              "0  08332/KWT/20/01/00032      W4778ZX  ...          4         3\n",
              "1  08332/KWT/20/02/00895      W4778ZX  ...          8         3\n",
              "2  08332/KWT/20/01/00709      L3632MA  ...          4         3\n",
              "3  08332/KWT/20/02/01105      W3446QF  ...          9         3\n",
              "4  08332/KWT/20/02/01082      L5908ML  ...          4         3\n",
              "\n",
              "[5 rows x 12 columns]"
            ]
          },
          "metadata": {},
          "execution_count": 42
        }
      ]
    },
    {
      "cell_type": "code",
      "metadata": {
        "id": "Uudx4Lj36g1B"
      },
      "source": [
        "for name in categorical:\n",
        "    df[name] = df[name].astype('category')"
      ],
      "execution_count": 43,
      "outputs": []
    },
    {
      "cell_type": "markdown",
      "metadata": {
        "id": "tSMjVTVD6g1C"
      },
      "source": [
        "**Implement a function that returns the spans (max-min for numerical columns, number of different values for categorical columns) of all columns for a partition of a dataframe.** "
      ]
    },
    {
      "cell_type": "code",
      "metadata": {
        "id": "mygxQbc86g1E"
      },
      "source": [
        "def get_spans(df, partition, scale=None):\n",
        "    \"\"\"\n",
        "    :param        df: the dataframe for which to calculate the spans\n",
        "    :param partition: the partition for which to calculate the spans\n",
        "    :param     scale: if given, the spans of each column will be divided\n",
        "                      by the value in `scale` for that column\n",
        "    :        returns: The spans of all columns in the partition\n",
        "    \"\"\"\n",
        "    spans = {}\n",
        "    for column in df.columns:\n",
        "        if column in categorical:\n",
        "            span = len(df[column][partition].unique())\n",
        "        else:\n",
        "            span = df[column][partition].max()-df[column][partition].min()\n",
        "        if scale is not None:\n",
        "            span = span/scale[column]\n",
        "        spans[column] = span\n",
        "    return spans"
      ],
      "execution_count": 44,
      "outputs": []
    },
    {
      "cell_type": "code",
      "metadata": {
        "colab": {
          "base_uri": "https://localhost:8080/"
        },
        "id": "u9U5vcgq6g1S",
        "outputId": "80fc89d6-d41a-4165-e5ae-d323b3c7e79c"
      },
      "source": [
        "full_spans = get_spans(df, df.index)\n",
        "full_spans"
      ],
      "execution_count": 45,
      "outputs": [
        {
          "output_type": "execute_result",
          "data": {
            "text/plain": [
              "{'agama': 4,\n",
              " 'alamat': 863,\n",
              " 'nama': 747,\n",
              " 'no_nota': 1000,\n",
              " 'nomor_mesin': 926,\n",
              " 'nomor_polisi': 926,\n",
              " 'nomor_rangka': 926,\n",
              " 'pekerjaan': 5,\n",
              " 'pendidikan': 7,\n",
              " 'phone': 881,\n",
              " 'tahun_produksi': 4,\n",
              " 'tipe_motor': 84}"
            ]
          },
          "metadata": {},
          "execution_count": 45
        }
      ]
    },
    {
      "cell_type": "markdown",
      "metadata": {
        "id": "_omPyKxY6g1T"
      },
      "source": [
        "**Implement a `split` function that takes a dataframe, partition and column and returns two partitions that split the given partition such that all rows with values of the column `column` below the median are in one partition and all rows with values above or equal to the median are in the other.**"
      ]
    },
    {
      "cell_type": "code",
      "metadata": {
        "id": "nmbecen26g1V"
      },
      "source": [
        "def split(df, partition, column):\n",
        "    \"\"\"\n",
        "    :param        df: The dataframe to split\n",
        "    :param partition: The partition to split\n",
        "    :param    column: The column along which to split\n",
        "    :        returns: A tuple containing a split of the original partition\n",
        "    \"\"\"\n",
        "    dfp = df[column][partition]\n",
        "    if column in categorical:\n",
        "        values = dfp.unique()\n",
        "        lv = set(values[:len(values)//2])\n",
        "        rv = set(values[len(values)//2:])\n",
        "        return dfp.index[dfp.isin(lv)], dfp.index[dfp.isin(rv)]\n",
        "    else:        \n",
        "        median = dfp.median()\n",
        "        dfl = dfp.index[dfp < median]\n",
        "        dfr = dfp.index[dfp >= median]\n",
        "        return (dfl, dfr)"
      ],
      "execution_count": 46,
      "outputs": []
    },
    {
      "cell_type": "markdown",
      "metadata": {
        "id": "8dIFZ7P76g1V"
      },
      "source": [
        "Now that we have all helper functions in place, we can implement the partition algorithm discussed above:\n",
        "\n",
        "**Implement the partitioning algorithm discussed above, using a k-anonymous criterion for the partitions you create.**"
      ]
    },
    {
      "cell_type": "code",
      "metadata": {
        "id": "HwM7TuXy6g1X"
      },
      "source": [
        "def is_k_anonymous(df, partition, sensitive_column, k=3):\n",
        "    \"\"\"\n",
        "    :param               df: The dataframe on which to check the partition.\n",
        "    :param        partition: The partition of the dataframe to check.\n",
        "    :param sensitive_column: The name of the sensitive column\n",
        "    :param                k: The desired k\n",
        "    :returns               : True if the partition is valid according to our k-anonymity criteria, False otherwise.\n",
        "    \"\"\"\n",
        "    if len(partition) < k:\n",
        "        return False\n",
        "    return True\n",
        "\n",
        "def partition_dataset(df, feature_columns, sensitive_column, scale, is_valid):\n",
        "    \"\"\"\n",
        "    :param               df: The dataframe to be partitioned.\n",
        "    :param  feature_columns: A list of column names along which to partition the dataset.\n",
        "    :param sensitive_column: The name of the sensitive column (to be passed on to the `is_valid` function)\n",
        "    :param            scale: The column spans as generated before.\n",
        "    :param         is_valid: A function that takes a dataframe and a partition and returns True if the partition is valid.\n",
        "    :returns               : A list of valid partitions that cover the entire dataframe.\n",
        "    \"\"\"\n",
        "    finished_partitions = []\n",
        "    partitions = [df.index]\n",
        "    while partitions:\n",
        "        partition = partitions.pop(0)\n",
        "        spans = get_spans(df[feature_columns], partition, scale)\n",
        "        for column, span in sorted(spans.items(), key=lambda x:-x[1]):\n",
        "            lp, rp = split(df, partition, column)\n",
        "            if not is_valid(df, lp, sensitive_column) or not is_valid(df, rp, sensitive_column):\n",
        "                continue\n",
        "            partitions.extend((lp, rp))\n",
        "            break\n",
        "        else:\n",
        "            finished_partitions.append(partition)\n",
        "    return finished_partitions\n"
      ],
      "execution_count": 47,
      "outputs": []
    },
    {
      "cell_type": "markdown",
      "metadata": {
        "id": "VQKXX0TP6g1Y"
      },
      "source": [
        "Now let's try this on our dataset! To keep things simple, we will at first select only two columns from the dataset that we apply the partitioning to. This makes it easier to check/visualize the result and speed up the execution (the naive algorithm can take several minutes when running on the entire dataset) "
      ]
    },
    {
      "cell_type": "code",
      "metadata": {
        "id": "mhLsxSzX6g1Z"
      },
      "source": [
        "# we apply our partitioning method to two columns of our dataset, using \"income\" as the sensitive attribute\n",
        "feature_columns = ['tahun_produksi','pekerjaan']\n",
        "sensitive_column = 'tipe_motor'\n",
        "finished_partitions = partition_dataset(df, feature_columns, sensitive_column, full_spans, is_k_anonymous)"
      ],
      "execution_count": 56,
      "outputs": []
    },
    {
      "cell_type": "code",
      "metadata": {
        "colab": {
          "base_uri": "https://localhost:8080/"
        },
        "id": "dCvSd28g6g1a",
        "outputId": "a31927c4-938a-4780-f3f9-64b8bb169531"
      },
      "source": [
        "# we get the number of partitions that were created\n",
        "len(finished_partitions)"
      ],
      "execution_count": 57,
      "outputs": [
        {
          "output_type": "execute_result",
          "data": {
            "text/plain": [
              "7"
            ]
          },
          "metadata": {},
          "execution_count": 57
        }
      ]
    },
    {
      "cell_type": "markdown",
      "metadata": {
        "id": "uuXlGr2j6g1b"
      },
      "source": [
        "Let's visualize the created partitions! To do that, we will write functions to get the rectangular bounds of a partition along two columns. We can then plot these rects to see how our partitioning function divides the dataset. If we perform the partition only along the two columns selected for plotting then the resulting rects should not overlap and cover the entire dataset."
      ]
    },
    {
      "cell_type": "code",
      "metadata": {
        "id": "8De9WSUF6g1c"
      },
      "source": [
        "import matplotlib.pylab as pl\n",
        "import matplotlib.patches as patches"
      ],
      "execution_count": 58,
      "outputs": []
    },
    {
      "cell_type": "code",
      "metadata": {
        "id": "hCgP2H2A6g1d"
      },
      "source": [
        "def build_indexes(df):\n",
        "    indexes = {}\n",
        "    for column in categorical:\n",
        "        values = sorted(df[column].unique())\n",
        "        indexes[column] = { x : y for x, y in zip(values, range(len(values)))}\n",
        "    return indexes\n",
        "\n",
        "def get_coords(df, column, partition, indexes, offset=0.1):\n",
        "    if column in categorical:\n",
        "        sv = df[column][partition].sort_values()\n",
        "        l, r = indexes[column][sv[sv.index[0]]], indexes[column][sv[sv.index[-1]]]+1.0\n",
        "    else:\n",
        "        sv = df[column][partition].sort_values()\n",
        "        next_value = sv[sv.index[-1]]\n",
        "        larger_values = df[df[column] > next_value][column]\n",
        "        if len(larger_values) > 0:\n",
        "            next_value = larger_values.min()\n",
        "        l = sv[sv.index[0]]\n",
        "        r = next_value\n",
        "    # we add some offset to make the partitions more easily visible\n",
        "    l -= offset\n",
        "    r += offset\n",
        "    return l, r\n",
        "\n",
        "def get_partition_rects(df, partitions, column_x, column_y, indexes, offsets=[0.1, 0.1]):\n",
        "    rects = []\n",
        "    for partition in partitions:\n",
        "        xl, xr = get_coords(df, column_x, partition, indexes, offset=offsets[0])\n",
        "        yl, yr = get_coords(df, column_y, partition, indexes, offset=offsets[1])\n",
        "        rects.append(((xl, yl),(xr, yr)))\n",
        "    return rects\n",
        "\n",
        "def get_bounds(df, column, indexes, offset=1.0):\n",
        "    if column in categorical:\n",
        "        return 0-offset, len(indexes[column])+offset\n",
        "    return df[column].min()-offset, df[column].max()+offset"
      ],
      "execution_count": 59,
      "outputs": []
    },
    {
      "cell_type": "code",
      "metadata": {
        "id": "mubNj6226g1e"
      },
      "source": [
        "# we calculate the bounding rects of all partitions that we created\n",
        "indexes = build_indexes(df)\n",
        "column_x, column_y = feature_columns[:2]\n",
        "rects = get_partition_rects(df, finished_partitions, column_x, column_y, indexes, offsets=[0.0, 0.0])"
      ],
      "execution_count": 60,
      "outputs": []
    },
    {
      "cell_type": "code",
      "metadata": {
        "colab": {
          "base_uri": "https://localhost:8080/"
        },
        "id": "TyA5P4Ln6g1e",
        "outputId": "e75ff166-de8a-415a-db70-c9137fe70688"
      },
      "source": [
        "# let's see how our rects look like\n",
        "rects[:10]"
      ],
      "execution_count": 61,
      "outputs": [
        {
          "output_type": "execute_result",
          "data": {
            "text/plain": [
              "[((2018.0, 1.0), (2019.0, 3.0)),\n",
              " ((2016.0, 3.0), (2018.0, 6.0)),\n",
              " ((2018.0, 3.0), (2019.0, 6.0)),\n",
              " ((2019.0, 1.0), (2020.0, 3.0)),\n",
              " ((2020.0, 1.0), (2020.0, 3.0)),\n",
              " ((2019.0, 3.0), (2020.0, 6.0)),\n",
              " ((2020.0, 3.0), (2020.0, 6.0))]"
            ]
          },
          "metadata": {},
          "execution_count": 61
        }
      ]
    },
    {
      "cell_type": "code",
      "metadata": {
        "id": "dEsN6_ex6g1f"
      },
      "source": [
        "# we plot the rects\n",
        "def plot_rects(df, ax, rects, column_x, column_y, edgecolor='black', facecolor='none'):\n",
        "    for (xl, yl),(xr, yr) in rects:\n",
        "        ax.add_patch(patches.Rectangle((xl,yl),xr-xl,yr-yl,linewidth=1,edgecolor=edgecolor,facecolor=facecolor, alpha=0.5))\n",
        "    ax.set_xlim(*get_bounds(df, column_x, indexes))\n",
        "    ax.set_ylim(*get_bounds(df, column_y, indexes))\n",
        "    ax.set_xlabel(column_x)\n",
        "    ax.set_ylabel(column_y)"
      ],
      "execution_count": 62,
      "outputs": []
    },
    {
      "cell_type": "code",
      "metadata": {
        "colab": {
          "base_uri": "https://localhost:8080/",
          "height": 845
        },
        "id": "7vZIf6Rt6g1f",
        "outputId": "4019014f-447a-46f4-eda6-a82d59055040"
      },
      "source": [
        "pl.figure(figsize=(20,20))\n",
        "ax = pl.subplot(111)\n",
        "plot_rects(df, ax, rects, column_x, column_y, facecolor='r')\n",
        "pl.scatter(df[column_x], df[column_y])\n",
        "pl.show()"
      ],
      "execution_count": 63,
      "outputs": [
        {
          "output_type": "display_data",
          "data": {
            "image/png": "[encoded data removed]",
            "text/plain": [
              "<Figure size 1440x1440 with 1 Axes>"
            ]
          },
          "metadata": {
            "needs_background": "light"
          }
        }
      ]
    },
    {
      "cell_type": "markdown",
      "metadata": {
        "id": "iFyGvmGv6g1f"
      },
      "source": [
        "# Generating an k-Anonymous Dataset\n",
        "\n",
        "Of course, to use the data we want to produce a new dataset that contains one row for each partition and value of the sensitive attribute. To do this, we need to aggregate the columns in each partition.  Let's do this!"
      ]
    },
    {
      "cell_type": "code",
      "metadata": {
        "id": "ML4eTDIe6g1g"
      },
      "source": [
        "def agg_categorical_column(series):\n",
        "    return [','.join(set(series))]\n",
        "\n",
        "def agg_numerical_column(series):\n",
        "    return [series.mean()]"
      ],
      "execution_count": 64,
      "outputs": []
    },
    {
      "cell_type": "code",
      "metadata": {
        "id": "S3xJGrwa6g1g"
      },
      "source": [
        "def build_anonymized_dataset(df, partitions, feature_columns, sensitive_column, max_partitions=None):\n",
        "    aggregations = {}\n",
        "    for column in feature_columns:\n",
        "        if column in categorical:\n",
        "            aggregations[column] = agg_categorical_column\n",
        "        else:\n",
        "            aggregations[column] = agg_numerical_column\n",
        "    rows = []\n",
        "    for i, partition in enumerate(partitions):\n",
        "        if i % 100 == 1:\n",
        "            print(\"Finished {} partitions...\".format(i))\n",
        "        if max_partitions is not None and i > max_partitions:\n",
        "            break\n",
        "        grouped_columns = df.loc[partition].agg(aggregations, squeeze=False)\n",
        "        sensitive_counts = df.loc[partition].groupby(sensitive_column).agg({sensitive_column : 'count'})\n",
        "        values = grouped_columns.iloc[0].to_dict()\n",
        "        for sensitive_value, count in sensitive_counts[sensitive_column].items():\n",
        "            if count == 0:\n",
        "                continue\n",
        "            values.update({\n",
        "                sensitive_column : sensitive_value,\n",
        "                'count' : count,\n",
        "\n",
        "            })\n",
        "            rows.append(values.copy())\n",
        "    return pd.DataFrame(rows)"
      ],
      "execution_count": 65,
      "outputs": []
    },
    {
      "cell_type": "code",
      "metadata": {
        "colab": {
          "base_uri": "https://localhost:8080/"
        },
        "id": "iHOGX6K66g1h",
        "outputId": "ed3503b7-c222-4489-f75b-bd129437dc01"
      },
      "source": [
        "dfn = build_anonymized_dataset(df, finished_partitions, feature_columns, sensitive_column)"
      ],
      "execution_count": 66,
      "outputs": [
        {
          "output_type": "stream",
          "name": "stdout",
          "text": [
            "Finished 1 partitions...\n"
          ]
        }
      ]
    },
    {
      "cell_type": "code",
      "metadata": {
        "colab": {
          "base_uri": "https://localhost:8080/",
          "height": 423
        },
        "id": "bp9n6yJd6g1h",
        "outputId": "bb286d7b-0517-4722-b3e2-f437b7ea85fb"
      },
      "source": [
        "dfn.to_csv('anonymized_dataset.csv', index=False)\n",
        "# we sort the resulting dataframe using the feature columns and the sensitive attribute\n",
        "dfn.sort_values(feature_columns+[sensitive_column])"
      ],
      "execution_count": 67,
      "outputs": [
        {
          "output_type": "execute_result",
          "data": {
            "text/html": [
              "\n",
              "  <div id=\"df-ea18e62e-5d97-4360-8274-dbdb7e66212c\">\n",
              "    <div class=\"colab-df-container\">\n",
              "      <div>\n",
              "<style scoped>\n",
              "    .dataframe tbody tr th:only-of-type {\n",
              "        vertical-align: middle;\n",
              "    }\n",
              "\n",
              "    .dataframe tbody tr th {\n",
              "        vertical-align: top;\n",
              "    }\n",
              "\n",
              "    .dataframe thead th {\n",
              "        text-align: right;\n",
              "    }\n",
              "</style>\n",
              "<table border=\"1\" class=\"dataframe\">\n",
              "  <thead>\n",
              "    <tr style=\"text-align: right;\">\n",
              "      <th></th>\n",
              "      <th>tahun_produksi</th>\n",
              "      <th>pekerjaan</th>\n",
              "      <th>tipe_motor</th>\n",
              "      <th>count</th>\n",
              "    </tr>\n",
              "  </thead>\n",
              "  <tbody>\n",
              "    <tr>\n",
              "      <th>16</th>\n",
              "      <td>2016.777778</td>\n",
              "      <td>3.666667</td>\n",
              "      <td>VARIO ESP CBS ISS ADV MMC</td>\n",
              "      <td>1</td>\n",
              "    </tr>\n",
              "    <tr>\n",
              "      <th>17</th>\n",
              "      <td>2016.777778</td>\n",
              "      <td>3.666667</td>\n",
              "      <td>BEAT</td>\n",
              "      <td>3</td>\n",
              "    </tr>\n",
              "    <tr>\n",
              "      <th>18</th>\n",
              "      <td>2016.777778</td>\n",
              "      <td>3.666667</td>\n",
              "      <td>BEAT FI CW</td>\n",
              "      <td>1</td>\n",
              "    </tr>\n",
              "    <tr>\n",
              "      <th>19</th>\n",
              "      <td>2016.777778</td>\n",
              "      <td>3.666667</td>\n",
              "      <td>BLADE</td>\n",
              "      <td>1</td>\n",
              "    </tr>\n",
              "    <tr>\n",
              "      <th>20</th>\n",
              "      <td>2016.777778</td>\n",
              "      <td>3.666667</td>\n",
              "      <td>NEW BEAT SPOKE WHEEL</td>\n",
              "      <td>1</td>\n",
              "    </tr>\n",
              "    <tr>\n",
              "      <th>...</th>\n",
              "      <td>...</td>\n",
              "      <td>...</td>\n",
              "      <td>...</td>\n",
              "      <td>...</td>\n",
              "    </tr>\n",
              "    <tr>\n",
              "      <th>199</th>\n",
              "      <td>2020.000000</td>\n",
              "      <td>3.517564</td>\n",
              "      <td>VARIO 125 CBS-ISS MMC</td>\n",
              "      <td>4</td>\n",
              "    </tr>\n",
              "    <tr>\n",
              "      <th>200</th>\n",
              "      <td>2020.000000</td>\n",
              "      <td>3.517564</td>\n",
              "      <td>VARIO 150</td>\n",
              "      <td>6</td>\n",
              "    </tr>\n",
              "    <tr>\n",
              "      <th>201</th>\n",
              "      <td>2020.000000</td>\n",
              "      <td>3.517564</td>\n",
              "      <td>VARIO 150 MMC</td>\n",
              "      <td>1</td>\n",
              "    </tr>\n",
              "    <tr>\n",
              "      <th>202</th>\n",
              "      <td>2020.000000</td>\n",
              "      <td>3.517564</td>\n",
              "      <td>VERZA CAST WHEEL</td>\n",
              "      <td>2</td>\n",
              "    </tr>\n",
              "    <tr>\n",
              "      <th>203</th>\n",
              "      <td>2020.000000</td>\n",
              "      <td>3.517564</td>\n",
              "      <td>Vario 110 CBS</td>\n",
              "      <td>3</td>\n",
              "    </tr>\n",
              "  </tbody>\n",
              "</table>\n",
              "<p>204 rows × 4 columns</p>\n",
              "</div>\n",
              "      <button class=\"colab-df-convert\" onclick=\"convertToInteractive('df-ea18e62e-5d97-4360-8274-dbdb7e66212c')\"\n",
              "              title=\"Convert this dataframe to an interactive table.\"\n",
              "              style=\"display:none;\">\n",
              "        \n",
              "  <svg xmlns=\"http://www.w3.org/2000/svg\" height=\"24px\"viewBox=\"0 0 24 24\"\n",
              "       width=\"24px\">\n",
              "    <path d=\"M0 0h24v24H0V0z\" fill=\"none\"/>\n",
              "    <path d=\"M18.56 5.44l.94 2.06.94-2.06 2.06-.94-2.06-.94-.94-2.06-.94 2.06-2.06.94zm-11 1L8.5 8.5l.94-2.06 2.06-.94-2.06-.94L8.5 2.5l-.94 2.06-2.06.94zm10 10l.94 2.06.94-2.06 2.06-.94-2.06-.94-.94-2.06-.94 2.06-2.06.94z\"/><path d=\"M17.41 7.96l-1.37-1.37c-.4-.4-.92-.59-1.43-.59-.52 0-1.04.2-1.43.59L10.3 9.45l-7.72 7.72c-.78.78-.78 2.05 0 2.83L4 21.41c.39.39.9.59 1.41.59.51 0 1.02-.2 1.41-.59l7.78-7.78 2.81-2.81c.8-.78.8-2.07 0-2.86zM5.41 20L4 18.59l7.72-7.72 1.47 1.35L5.41 20z\"/>\n",
              "  </svg>\n",
              "      </button>\n",
              "      \n",
              "  <style>\n",
              "    .colab-df-container {\n",
              "      display:flex;\n",
              "      flex-wrap:wrap;\n",
              "      gap: 12px;\n",
              "    }\n",
              "\n",
              "    .colab-df-convert {\n",
              "      background-color: #E8F0FE;\n",
              "      border: none;\n",
              "      border-radius: 50%;\n",
              "      cursor: pointer;\n",
              "      display: none;\n",
              "      fill: #1967D2;\n",
              "      height: 32px;\n",
              "      padding: 0 0 0 0;\n",
              "      width: 32px;\n",
              "    }\n",
              "\n",
              "    .colab-df-convert:hover {\n",
              "      background-color: #E2EBFA;\n",
              "      box-shadow: 0px 1px 2px rgba(60, 64, 67, 0.3), 0px 1px 3px 1px rgba(60, 64, 67, 0.15);\n",
              "      fill: #174EA6;\n",
              "    }\n",
              "\n",
              "    [theme=dark] .colab-df-convert {\n",
              "      background-color: #3B4455;\n",
              "      fill: #D2E3FC;\n",
              "    }\n",
              "\n",
              "    [theme=dark] .colab-df-convert:hover {\n",
              "      background-color: #434B5C;\n",
              "      box-shadow: 0px 1px 3px 1px rgba(0, 0, 0, 0.15);\n",
              "      filter: drop-shadow(0px 1px 2px rgba(0, 0, 0, 0.3));\n",
              "      fill: #FFFFFF;\n",
              "    }\n",
              "  </style>\n",
              "\n",
              "      <script>\n",
              "        const buttonEl =\n",
              "          document.querySelector('#df-ea18e62e-5d97-4360-8274-dbdb7e66212c button.colab-df-convert');\n",
              "        buttonEl.style.display =\n",
              "          google.colab.kernel.accessAllowed ? 'block' : 'none';\n",
              "\n",
              "        async function convertToInteractive(key) {\n",
              "          const element = document.querySelector('#df-ea18e62e-5d97-4360-8274-dbdb7e66212c');\n",
              "          const dataTable =\n",
              "            await google.colab.kernel.invokeFunction('convertToInteractive',\n",
              "                                                     [key], {});\n",
              "          if (!dataTable) return;\n",
              "\n",
              "          const docLinkHtml = 'Like what you see? Visit the ' +\n",
              "            '<a target=\"_blank\" href=https://colab.research.google.com/notebooks/data_table.ipynb>data table notebook</a>'\n",
              "            + ' to learn more about interactive tables.';\n",
              "          element.innerHTML = '';\n",
              "          dataTable['output_type'] = 'display_data';\n",
              "          await google.colab.output.renderOutput(dataTable, element);\n",
              "          const docLink = document.createElement('div');\n",
              "          docLink.innerHTML = docLinkHtml;\n",
              "          element.appendChild(docLink);\n",
              "        }\n",
              "      </script>\n",
              "    </div>\n",
              "  </div>\n",
              "  "
            ],
            "text/plain": [
              "     tahun_produksi  pekerjaan                  tipe_motor  count\n",
              "16      2016.777778   3.666667   VARIO ESP CBS ISS ADV MMC      1\n",
              "17      2016.777778   3.666667                        BEAT      3\n",
              "18      2016.777778   3.666667                  BEAT FI CW      1\n",
              "19      2016.777778   3.666667                       BLADE      1\n",
              "20      2016.777778   3.666667        NEW BEAT SPOKE WHEEL      1\n",
              "..              ...        ...                         ...    ...\n",
              "199     2020.000000   3.517564       VARIO 125 CBS-ISS MMC      4\n",
              "200     2020.000000   3.517564                   VARIO 150      6\n",
              "201     2020.000000   3.517564               VARIO 150 MMC      1\n",
              "202     2020.000000   3.517564            VERZA CAST WHEEL      2\n",
              "203     2020.000000   3.517564               Vario 110 CBS      3\n",
              "\n",
              "[204 rows x 4 columns]"
            ]
          },
          "metadata": {},
          "execution_count": 67
        }
      ]
    },
    {
      "cell_type": "code",
      "metadata": {
        "id": "1BNPwTdQ7G9d"
      },
      "source": [
        ""
      ],
      "execution_count": null,
      "outputs": []
    }
  ]
}